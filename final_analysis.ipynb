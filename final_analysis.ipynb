{
 "cells": [
  {
   "cell_type": "code",
   "execution_count": 1,
   "metadata": {},
   "outputs": [],
   "source": [
    "import seaborn as sns\n",
    "import matplotlib.pyplot as plt\n",
    "import numpy as np"
   ]
  },
  {
   "cell_type": "code",
   "execution_count": 2,
   "metadata": {},
   "outputs": [],
   "source": [
    "conferences = ['a_sun',\n",
    " 'a_ten',\n",
    " 'aac',\n",
    " 'acc',\n",
    " 'aec',\n",
    " 'big_east',\n",
    " 'big_sky',\n",
    " 'big_south',\n",
    " 'big_ten',\n",
    " 'big_twelve',\n",
    " 'big_west',\n",
    " 'caa',\n",
    " 'cusa',\n",
    " 'horizon',\n",
    " 'ind',\n",
    " 'ivy',\n",
    " 'maac',\n",
    " 'mac',\n",
    " 'meac',\n",
    " 'mvc',\n",
    " 'mwc',\n",
    " 'nec',\n",
    " 'ovc',\n",
    " 'pac_twelve',\n",
    " 'patriot',\n",
    " 'sec',\n",
    " 'southern',\n",
    " 'southland',\n",
    " 'summit',\n",
    " 'sun_belt',\n",
    " 'swac',\n",
    " 'wac',\n",
    " 'wcc']"
   ]
  },
  {
   "cell_type": "code",
   "execution_count": 3,
   "metadata": {},
   "outputs": [],
   "source": [
    "conference_strengths = [0.9548, 1.0154, 1.0413, 1.0714, 0.9685, 1.0878, 0.9752, 0.9548, 1.0927,\n",
    "        1.0861, 0.9768, 0.9731, 0.9948, 0.9625, 1.0000, 0.9855, 0.9648, 0.9974,\n",
    "        0.9056, 1.0117, 1.0226, 0.9420, 0.9625, 1.0539, 0.9624, 1.0782, 1.0001,\n",
    "        0.9391, 0.9670, 0.9837, 0.9009, 0.9681, 1.0246]"
   ]
  },
  {
   "cell_type": "code",
   "execution_count": 4,
   "metadata": {},
   "outputs": [
    {
     "data": {
      "text/plain": [
       "True"
      ]
     },
     "execution_count": 4,
     "metadata": {},
     "output_type": "execute_result"
    }
   ],
   "source": [
    "len(conferences) == len(conference_strengths)"
   ]
  },
  {
   "cell_type": "code",
   "execution_count": 5,
   "metadata": {},
   "outputs": [],
   "source": [
    "import pandas as pd"
   ]
  },
  {
   "cell_type": "code",
   "execution_count": 14,
   "metadata": {},
   "outputs": [
    {
     "name": "stdout",
     "output_type": "stream",
     "text": [
      "[['a_sun', 0.9548], ['a_ten', 1.0154], ['aac', 1.0413], ['acc', 1.0714], ['aec', 0.9685], ['big_east', 1.0878], ['big_sky', 0.9752], ['big_south', 0.9548], ['big_ten', 1.0927], ['big_twelve', 1.0861], ['big_west', 0.9768], ['caa', 0.9731], ['cusa', 0.9948], ['horizon', 0.9625], ['ind', 1.0], ['ivy', 0.9855], ['maac', 0.9648], ['mac', 0.9974], ['meac', 0.9056], ['mvc', 1.0117], ['mwc', 1.0226], ['nec', 0.942], ['ovc', 0.9625], ['pac_twelve', 1.0539], ['patriot', 0.9624], ['sec', 1.0782], ['southern', 1.0001], ['southland', 0.9391], ['summit', 0.967], ['sun_belt', 0.9837], ['swac', 0.9009], ['wac', 0.9681], ['wcc', 1.0246]]\n"
     ]
    }
   ],
   "source": [
    "df = []\n",
    "for conf, strength in zip(conferences, conference_strengths):\n",
    "    df.append([conf, float(strength)])\n",
    "print(df)"
   ]
  },
  {
   "cell_type": "code",
   "execution_count": 15,
   "metadata": {},
   "outputs": [],
   "source": [
    "df = pd.DataFrame(df, columns=[\"Conference\", \"Conference Strength\"])"
   ]
  },
  {
   "cell_type": "code",
   "execution_count": 16,
   "metadata": {},
   "outputs": [
    {
     "data": {
      "text/html": [
       "<div>\n",
       "<style scoped>\n",
       "    .dataframe tbody tr th:only-of-type {\n",
       "        vertical-align: middle;\n",
       "    }\n",
       "\n",
       "    .dataframe tbody tr th {\n",
       "        vertical-align: top;\n",
       "    }\n",
       "\n",
       "    .dataframe thead th {\n",
       "        text-align: right;\n",
       "    }\n",
       "</style>\n",
       "<table border=\"1\" class=\"dataframe\">\n",
       "  <thead>\n",
       "    <tr style=\"text-align: right;\">\n",
       "      <th></th>\n",
       "      <th>Conference</th>\n",
       "      <th>Conference Strength</th>\n",
       "    </tr>\n",
       "  </thead>\n",
       "  <tbody>\n",
       "    <tr>\n",
       "      <th>0</th>\n",
       "      <td>a_sun</td>\n",
       "      <td>0.9548</td>\n",
       "    </tr>\n",
       "    <tr>\n",
       "      <th>1</th>\n",
       "      <td>a_ten</td>\n",
       "      <td>1.0154</td>\n",
       "    </tr>\n",
       "    <tr>\n",
       "      <th>2</th>\n",
       "      <td>aac</td>\n",
       "      <td>1.0413</td>\n",
       "    </tr>\n",
       "    <tr>\n",
       "      <th>3</th>\n",
       "      <td>acc</td>\n",
       "      <td>1.0714</td>\n",
       "    </tr>\n",
       "    <tr>\n",
       "      <th>4</th>\n",
       "      <td>aec</td>\n",
       "      <td>0.9685</td>\n",
       "    </tr>\n",
       "  </tbody>\n",
       "</table>\n",
       "</div>"
      ],
      "text/plain": [
       "  Conference  Conference Strength\n",
       "0      a_sun               0.9548\n",
       "1      a_ten               1.0154\n",
       "2        aac               1.0413\n",
       "3        acc               1.0714\n",
       "4        aec               0.9685"
      ]
     },
     "execution_count": 16,
     "metadata": {},
     "output_type": "execute_result"
    }
   ],
   "source": [
    "df.head()"
   ]
  },
  {
   "cell_type": "code",
   "execution_count": 20,
   "metadata": {},
   "outputs": [
    {
     "data": {
      "text/html": [
       "<div>\n",
       "<style scoped>\n",
       "    .dataframe tbody tr th:only-of-type {\n",
       "        vertical-align: middle;\n",
       "    }\n",
       "\n",
       "    .dataframe tbody tr th {\n",
       "        vertical-align: top;\n",
       "    }\n",
       "\n",
       "    .dataframe thead th {\n",
       "        text-align: right;\n",
       "    }\n",
       "</style>\n",
       "<table border=\"1\" class=\"dataframe\">\n",
       "  <thead>\n",
       "    <tr style=\"text-align: right;\">\n",
       "      <th></th>\n",
       "      <th>Conference</th>\n",
       "      <th>Conference Strength</th>\n",
       "    </tr>\n",
       "  </thead>\n",
       "  <tbody>\n",
       "    <tr>\n",
       "      <th>8</th>\n",
       "      <td>big_ten</td>\n",
       "      <td>1.0927</td>\n",
       "    </tr>\n",
       "    <tr>\n",
       "      <th>5</th>\n",
       "      <td>big_east</td>\n",
       "      <td>1.0878</td>\n",
       "    </tr>\n",
       "    <tr>\n",
       "      <th>9</th>\n",
       "      <td>big_twelve</td>\n",
       "      <td>1.0861</td>\n",
       "    </tr>\n",
       "    <tr>\n",
       "      <th>25</th>\n",
       "      <td>sec</td>\n",
       "      <td>1.0782</td>\n",
       "    </tr>\n",
       "    <tr>\n",
       "      <th>3</th>\n",
       "      <td>acc</td>\n",
       "      <td>1.0714</td>\n",
       "    </tr>\n",
       "  </tbody>\n",
       "</table>\n",
       "</div>"
      ],
      "text/plain": [
       "    Conference  Conference Strength\n",
       "8      big_ten               1.0927\n",
       "5     big_east               1.0878\n",
       "9   big_twelve               1.0861\n",
       "25         sec               1.0782\n",
       "3          acc               1.0714"
      ]
     },
     "execution_count": 20,
     "metadata": {},
     "output_type": "execute_result"
    }
   ],
   "source": [
    "df = df.sort_values(by='Conference Strength', ascending=False)\n",
    "df.head()"
   ]
  },
  {
   "cell_type": "code",
   "execution_count": 21,
   "metadata": {},
   "outputs": [
    {
     "data": {
      "text/plain": [
       "<Axes: xlabel='Conference Strength', ylabel='Conference'>"
      ]
     },
     "execution_count": 21,
     "metadata": {},
     "output_type": "execute_result"
    },
    {
     "data": {
      "image/png": "[encoded data removed]",
      "text/plain": [
       "<Figure size 640x480 with 1 Axes>"
      ]
     },
     "metadata": {},
     "output_type": "display_data"
    }
   ],
   "source": [
    "sns.barplot(df, x=\"Conference Strength\", y=\"Conference\")"
   ]
  }
 ],
 "metadata": {
  "kernelspec": {
   "display_name": "base",
   "language": "python",
   "name": "python3"
  },
  "language_info": {
   "codemirror_mode": {
    "name": "ipython",
    "version": 3
   },
   "file_extension": ".py",
   "mimetype": "text/x-python",
   "name": "python",
   "nbconvert_exporter": "python",
   "pygments_lexer": "ipython3",
   "version": "3.12.4"
  }
 },
 "nbformat": 4,
 "nbformat_minor": 2
}
